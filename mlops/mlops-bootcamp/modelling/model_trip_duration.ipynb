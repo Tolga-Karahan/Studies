{
 "cells": [
  {
   "cell_type": "code",
   "execution_count": 1,
   "metadata": {},
   "outputs": [],
   "source": [
    "import pandas as pd"
   ]
  },
  {
   "cell_type": "code",
   "execution_count": 5,
   "metadata": {},
   "outputs": [],
   "source": [
    "trip_data = pd.read_parquet('green_tripdata_2021-01.parquet')"
   ]
  },
  {
   "cell_type": "code",
   "execution_count": 7,
   "metadata": {},
   "outputs": [
    {
     "data": {
      "text/html": [
       "<div>\n",
       "<style scoped>\n",
       "    .dataframe tbody tr th:only-of-type {\n",
       "        vertical-align: middle;\n",
       "    }\n",
       "\n",
       "    .dataframe tbody tr th {\n",
       "        vertical-align: top;\n",
       "    }\n",
       "\n",
       "    .dataframe thead th {\n",
       "        text-align: right;\n",
       "    }\n",
       "</style>\n",
       "<table border=\"1\" class=\"dataframe\">\n",
       "  <thead>\n",
       "    <tr style=\"text-align: right;\">\n",
       "      <th></th>\n",
       "      <th>VendorID</th>\n",
       "      <th>lpep_pickup_datetime</th>\n",
       "      <th>lpep_dropoff_datetime</th>\n",
       "      <th>store_and_fwd_flag</th>\n",
       "      <th>RatecodeID</th>\n",
       "      <th>PULocationID</th>\n",
       "      <th>DOLocationID</th>\n",
       "      <th>passenger_count</th>\n",
       "      <th>trip_distance</th>\n",
       "      <th>fare_amount</th>\n",
       "      <th>extra</th>\n",
       "      <th>mta_tax</th>\n",
       "      <th>tip_amount</th>\n",
       "      <th>tolls_amount</th>\n",
       "      <th>ehail_fee</th>\n",
       "      <th>improvement_surcharge</th>\n",
       "      <th>total_amount</th>\n",
       "      <th>payment_type</th>\n",
       "      <th>trip_type</th>\n",
       "      <th>congestion_surcharge</th>\n",
       "    </tr>\n",
       "  </thead>\n",
       "  <tbody>\n",
       "    <tr>\n",
       "      <th>6</th>\n",
       "      <td>2</td>\n",
       "      <td>2021-01-01 00:19:14</td>\n",
       "      <td>2021-01-01 00:19:21</td>\n",
       "      <td>N</td>\n",
       "      <td>5.0</td>\n",
       "      <td>265</td>\n",
       "      <td>265</td>\n",
       "      <td>1.0</td>\n",
       "      <td>0.00</td>\n",
       "      <td>180.0</td>\n",
       "      <td>0.0</td>\n",
       "      <td>0.0</td>\n",
       "      <td>36.06</td>\n",
       "      <td>0.0</td>\n",
       "      <td>None</td>\n",
       "      <td>0.3</td>\n",
       "      <td>216.36</td>\n",
       "      <td>1.0</td>\n",
       "      <td>2.0</td>\n",
       "      <td>0.0</td>\n",
       "    </tr>\n",
       "    <tr>\n",
       "      <th>15</th>\n",
       "      <td>2</td>\n",
       "      <td>2021-01-01 00:29:05</td>\n",
       "      <td>2021-01-01 00:29:07</td>\n",
       "      <td>N</td>\n",
       "      <td>5.0</td>\n",
       "      <td>42</td>\n",
       "      <td>264</td>\n",
       "      <td>1.0</td>\n",
       "      <td>0.00</td>\n",
       "      <td>10.0</td>\n",
       "      <td>0.0</td>\n",
       "      <td>0.0</td>\n",
       "      <td>2.06</td>\n",
       "      <td>0.0</td>\n",
       "      <td>None</td>\n",
       "      <td>0.3</td>\n",
       "      <td>12.36</td>\n",
       "      <td>1.0</td>\n",
       "      <td>2.0</td>\n",
       "      <td>0.0</td>\n",
       "    </tr>\n",
       "    <tr>\n",
       "      <th>30</th>\n",
       "      <td>2</td>\n",
       "      <td>2021-01-01 00:35:29</td>\n",
       "      <td>2021-01-01 00:55:15</td>\n",
       "      <td>N</td>\n",
       "      <td>5.0</td>\n",
       "      <td>74</td>\n",
       "      <td>247</td>\n",
       "      <td>1.0</td>\n",
       "      <td>3.64</td>\n",
       "      <td>13.0</td>\n",
       "      <td>0.0</td>\n",
       "      <td>0.0</td>\n",
       "      <td>0.00</td>\n",
       "      <td>0.0</td>\n",
       "      <td>None</td>\n",
       "      <td>0.3</td>\n",
       "      <td>13.30</td>\n",
       "      <td>2.0</td>\n",
       "      <td>2.0</td>\n",
       "      <td>0.0</td>\n",
       "    </tr>\n",
       "    <tr>\n",
       "      <th>43</th>\n",
       "      <td>2</td>\n",
       "      <td>2021-01-01 23:12:41</td>\n",
       "      <td>2021-01-02 01:13:53</td>\n",
       "      <td>N</td>\n",
       "      <td>5.0</td>\n",
       "      <td>95</td>\n",
       "      <td>82</td>\n",
       "      <td>1.0</td>\n",
       "      <td>0.00</td>\n",
       "      <td>9.7</td>\n",
       "      <td>0.0</td>\n",
       "      <td>0.0</td>\n",
       "      <td>2.00</td>\n",
       "      <td>0.0</td>\n",
       "      <td>None</td>\n",
       "      <td>0.3</td>\n",
       "      <td>12.00</td>\n",
       "      <td>1.0</td>\n",
       "      <td>2.0</td>\n",
       "      <td>0.0</td>\n",
       "    </tr>\n",
       "    <tr>\n",
       "      <th>45</th>\n",
       "      <td>2</td>\n",
       "      <td>2021-01-01 01:49:29</td>\n",
       "      <td>2021-01-01 01:49:33</td>\n",
       "      <td>N</td>\n",
       "      <td>5.0</td>\n",
       "      <td>244</td>\n",
       "      <td>244</td>\n",
       "      <td>5.0</td>\n",
       "      <td>0.02</td>\n",
       "      <td>12.0</td>\n",
       "      <td>0.0</td>\n",
       "      <td>0.0</td>\n",
       "      <td>2.46</td>\n",
       "      <td>0.0</td>\n",
       "      <td>None</td>\n",
       "      <td>0.3</td>\n",
       "      <td>14.76</td>\n",
       "      <td>1.0</td>\n",
       "      <td>2.0</td>\n",
       "      <td>0.0</td>\n",
       "    </tr>\n",
       "  </tbody>\n",
       "</table>\n",
       "</div>"
      ],
      "text/plain": [
       "    VendorID lpep_pickup_datetime lpep_dropoff_datetime store_and_fwd_flag  \\\n",
       "6          2  2021-01-01 00:19:14   2021-01-01 00:19:21                  N   \n",
       "15         2  2021-01-01 00:29:05   2021-01-01 00:29:07                  N   \n",
       "30         2  2021-01-01 00:35:29   2021-01-01 00:55:15                  N   \n",
       "43         2  2021-01-01 23:12:41   2021-01-02 01:13:53                  N   \n",
       "45         2  2021-01-01 01:49:29   2021-01-01 01:49:33                  N   \n",
       "\n",
       "    RatecodeID  PULocationID  DOLocationID  passenger_count  trip_distance  \\\n",
       "6          5.0           265           265              1.0           0.00   \n",
       "15         5.0            42           264              1.0           0.00   \n",
       "30         5.0            74           247              1.0           3.64   \n",
       "43         5.0            95            82              1.0           0.00   \n",
       "45         5.0           244           244              5.0           0.02   \n",
       "\n",
       "    fare_amount  extra  mta_tax  tip_amount  tolls_amount ehail_fee  \\\n",
       "6         180.0    0.0      0.0       36.06           0.0      None   \n",
       "15         10.0    0.0      0.0        2.06           0.0      None   \n",
       "30         13.0    0.0      0.0        0.00           0.0      None   \n",
       "43          9.7    0.0      0.0        2.00           0.0      None   \n",
       "45         12.0    0.0      0.0        2.46           0.0      None   \n",
       "\n",
       "    improvement_surcharge  total_amount  payment_type  trip_type  \\\n",
       "6                     0.3        216.36           1.0        2.0   \n",
       "15                    0.3         12.36           1.0        2.0   \n",
       "30                    0.3         13.30           2.0        2.0   \n",
       "43                    0.3         12.00           1.0        2.0   \n",
       "45                    0.3         14.76           1.0        2.0   \n",
       "\n",
       "    congestion_surcharge  \n",
       "6                    0.0  \n",
       "15                   0.0  \n",
       "30                   0.0  \n",
       "43                   0.0  \n",
       "45                   0.0  "
      ]
     },
     "execution_count": 7,
     "metadata": {},
     "output_type": "execute_result"
    }
   ],
   "source": [
    "trip_data.head()"
   ]
  },
  {
   "cell_type": "code",
   "execution_count": 11,
   "metadata": {},
   "outputs": [
    {
     "name": "stdout",
     "output_type": "stream",
     "text": [
      "<class 'pandas.core.frame.DataFrame'>\n",
      "Int64Index: 1238 entries, 6 to 40430\n",
      "Data columns (total 21 columns):\n",
      " #   Column                 Non-Null Count  Dtype          \n",
      "---  ------                 --------------  -----          \n",
      " 0   VendorID               1238 non-null   int64          \n",
      " 1   lpep_pickup_datetime   1238 non-null   datetime64[ns] \n",
      " 2   lpep_dropoff_datetime  1238 non-null   datetime64[ns] \n",
      " 3   store_and_fwd_flag     1238 non-null   object         \n",
      " 4   RatecodeID             1238 non-null   float64        \n",
      " 5   PULocationID           1238 non-null   int64          \n",
      " 6   DOLocationID           1238 non-null   int64          \n",
      " 7   passenger_count        1238 non-null   float64        \n",
      " 8   trip_distance          1238 non-null   float64        \n",
      " 9   fare_amount            1238 non-null   float64        \n",
      " 10  extra                  1238 non-null   float64        \n",
      " 11  mta_tax                1238 non-null   float64        \n",
      " 12  tip_amount             1238 non-null   float64        \n",
      " 13  tolls_amount           1238 non-null   float64        \n",
      " 14  ehail_fee              0 non-null      object         \n",
      " 15  improvement_surcharge  1238 non-null   float64        \n",
      " 16  total_amount           1238 non-null   float64        \n",
      " 17  payment_type           1238 non-null   float64        \n",
      " 18  trip_type              1238 non-null   float64        \n",
      " 19  congestion_surcharge   1238 non-null   float64        \n",
      " 20  duration               1238 non-null   timedelta64[ns]\n",
      "dtypes: datetime64[ns](2), float64(13), int64(3), object(2), timedelta64[ns](1)\n",
      "memory usage: 212.8+ KB\n"
     ]
    }
   ],
   "source": [
    "trip_data.info()"
   ]
  },
  {
   "cell_type": "code",
   "execution_count": 6,
   "metadata": {},
   "outputs": [],
   "source": [
    "trip_data = trip_data[trip_data.trip_type == 2]"
   ]
  },
  {
   "cell_type": "code",
   "execution_count": 13,
   "metadata": {},
   "outputs": [],
   "source": [
    "trip_data['duration'] = trip_data['lpep_dropoff_datetime'] - trip_data['lpep_pickup_datetime']\n",
    "trip_data['duration'] = trip_data['duration'].apply(lambda x: x.total_seconds() / 60)"
   ]
  },
  {
   "cell_type": "code",
   "execution_count": 14,
   "metadata": {},
   "outputs": [
    {
     "data": {
      "text/plain": [
       "6          0.116667\n",
       "15         0.033333\n",
       "30        19.766667\n",
       "43       121.200000\n",
       "45         0.066667\n",
       "            ...    \n",
       "40363      9.450000\n",
       "40364     35.033333\n",
       "40377      0.666667\n",
       "40394      0.050000\n",
       "40430     23.150000\n",
       "Name: duration, Length: 1238, dtype: float64"
      ]
     },
     "execution_count": 14,
     "metadata": {},
     "output_type": "execute_result"
    }
   ],
   "source": [
    "trip_data['duration']"
   ]
  },
  {
   "cell_type": "code",
   "execution_count": 21,
   "metadata": {},
   "outputs": [
    {
     "data": {
      "text/plain": [
       "count    1238.000000\n",
       "mean       18.305493\n",
       "std       108.364382\n",
       "min         0.000000\n",
       "50%         1.666667\n",
       "95%        35.604167\n",
       "98%        59.339333\n",
       "99%       149.837833\n",
       "max      1416.100000\n",
       "Name: duration, dtype: float64"
      ]
     },
     "execution_count": 21,
     "metadata": {},
     "output_type": "execute_result"
    }
   ],
   "source": [
    "# %98 percent of the duration is less than one hour\n",
    "trip_data.duration.describe(percentiles=[0.95, 0.98, 0.99])"
   ]
  },
  {
   "cell_type": "code",
   "execution_count": 26,
   "metadata": {},
   "outputs": [
    {
     "data": {
      "text/plain": [
       "count    640.000000\n",
       "mean      15.112292\n",
       "std       11.514934\n",
       "min        1.016667\n",
       "25%        6.433333\n",
       "50%       12.766667\n",
       "75%       21.070833\n",
       "max       58.966667\n",
       "Name: duration, dtype: float64"
      ]
     },
     "execution_count": 26,
     "metadata": {},
     "output_type": "execute_result"
    }
   ],
   "source": [
    "# Restrict our region of interest to data that is less than one hour\n",
    "trip_data = trip_data[(trip_data.duration > 1) & (trip_data.duration < 60)] \n",
    "trip_data.duration.describe()"
   ]
  },
  {
   "cell_type": "code",
   "execution_count": null,
   "metadata": {},
   "outputs": [],
   "source": []
  }
 ],
 "metadata": {
  "interpreter": {
   "hash": "03bfd732542c9a8930396bd28b3122d0f948fd6ee989df7d280b6bbaa15a5ef9"
  },
  "kernelspec": {
   "display_name": "Python 3.9.1 ('mlops-bootcamp-env': venv)",
   "language": "python",
   "name": "python3"
  },
  "language_info": {
   "codemirror_mode": {
    "name": "ipython",
    "version": 3
   },
   "file_extension": ".py",
   "mimetype": "text/x-python",
   "name": "python",
   "nbconvert_exporter": "python",
   "pygments_lexer": "ipython3",
   "version": "3.9.1"
  },
  "orig_nbformat": 4
 },
 "nbformat": 4,
 "nbformat_minor": 2
}
